{
 "cells": [
  {
   "cell_type": "markdown",
   "id": "876240cc",
   "metadata": {},
   "source": [
    "# Linear Regression Example\n",
    "## Ok taking code from a curve fitting programm\n",
    "## and making it like a tipical ML regression\n",
    "### Import functions from the numpy and pylab libraries"
   ]
  },
  {
   "cell_type": "code",
   "execution_count": 1,
   "id": "94f11324",
   "metadata": {},
   "outputs": [],
   "source": [
    "from numpy import linspace, polyfit, poly1d, cos, random\n",
    "from pylab import plot, show"
   ]
  },
  {
   "cell_type": "markdown",
   "id": "d4520ece",
   "metadata": {},
   "source": [
    "### Generate a fake dataset for scatter plot"
   ]
  },
  {
   "cell_type": "code",
   "execution_count": 2,
   "id": "94554e30",
   "metadata": {},
   "outputs": [],
   "source": [
    "random.seed(13)\n",
    "x = linspace( 0 , 10 , 10 )\n",
    "y = 2*x + 15*random.rand(10)"
   ]
  },
  {
   "cell_type": "markdown",
   "id": "97bb4119",
   "metadata": {},
   "source": [
    "### Finding the linear regression line\n",
    "1. Polyfit is a method that fits the data within a least squares polynomial function\n",
    "2. Generl Linear equation is used for regression line is $y = ax + b$\n",
    "3. variable $a$ is the slope and variable $b$ is the intercept.\n",
    "4. The slope is also called the regression coefficient.\n",
    "5. x variable is the input variable and y is the output variable."
   ]
  },
  {
   "cell_type": "code",
   "execution_count": 3,
   "id": "bc3efc77",
   "metadata": {},
   "outputs": [
    {
     "name": "stdout",
     "output_type": "stream",
     "text": [
      " \n",
      "2.04 x + 10.27 = y\n"
     ]
    }
   ],
   "source": [
    "model = polyfit(x,y,1)\n",
    "xn = linspace(0,15,100)\n",
    "predict = poly1d(model)\n",
    "print(predict, '=', 'y')"
   ]
  },
  {
   "cell_type": "markdown",
   "id": "4d6dbd7b",
   "metadata": {},
   "source": [
    "### Predict what y would be if x = 12\n",
    "1. Predicted spot on plot is a blue dot"
   ]
  },
  {
   "cell_type": "code",
   "execution_count": 4,
   "id": "a73fe5d7",
   "metadata": {},
   "outputs": [
    {
     "name": "stdout",
     "output_type": "stream",
     "text": [
      " \n",
      "2.04 x + 10.27 = 34.75239113959198\n"
     ]
    }
   ],
   "source": [
    "xp = 12\n",
    "yp = predict(xp)\n",
    "print(predict, '=', yp)"
   ]
  },
  {
   "cell_type": "markdown",
   "id": "dbd9388d",
   "metadata": {},
   "source": [
    "### Plotting everything"
   ]
  },
  {
   "cell_type": "code",
   "execution_count": 5,
   "id": "ff6b9128",
   "metadata": {},
   "outputs": [
    {
     "data": {
      "text/plain": [
       "[<matplotlib.lines.Line2D at 0x225c43cec20>]"
      ]
     },
     "execution_count": 5,
     "metadata": {},
     "output_type": "execute_result"
    },
    {
     "data": {
      "image/png": "[encoded data removed]",
      "text/plain": [
       "<Figure size 640x480 with 1 Axes>"
      ]
     },
     "metadata": {},
     "output_type": "display_data"
    }
   ],
   "source": [
    "plot(x,y,'o', color = 'cyan')\n",
    "plot(xn, predict(xn), color = 'red')\n",
    "plot(xp, predict(xp),'o', color = 'blue')"
   ]
  },
  {
   "cell_type": "code",
   "execution_count": null,
   "id": "906cbc60",
   "metadata": {},
   "outputs": [],
   "source": []
  }
 ],
 "metadata": {
  "kernelspec": {
   "display_name": "Python 3 (ipykernel)",
   "language": "python",
   "name": "python3"
  },
  "language_info": {
   "codemirror_mode": {
    "name": "ipython",
    "version": 3
   },
   "file_extension": ".py",
   "mimetype": "text/x-python",
   "name": "python",
   "nbconvert_exporter": "python",
   "pygments_lexer": "ipython3",
   "version": "3.10.7"
  }
 },
 "nbformat": 4,
 "nbformat_minor": 5
}
