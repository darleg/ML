{
 "cells": [
  {
   "cell_type": "markdown",
   "id": "e7d835e3",
   "metadata": {},
   "source": [
    "# Mean Squared Error(MSE)\n",
    "# Biased MSE and unbiased MSE"
   ]
  },
  {
   "cell_type": "code",
   "execution_count": 1,
   "id": "dbb75ac5",
   "metadata": {},
   "outputs": [],
   "source": [
    "from numpy import square, subtract"
   ]
  },
  {
   "cell_type": "markdown",
   "id": "3e752575",
   "metadata": {},
   "source": [
    "## Biased MSE:  $$MSE = \\frac{1}{n}\\sum^{n}_{i=1}(y_{i} - \\hat{y}_{i})^2$$\n",
    "## $\\hat{y}$ is the same as line equation: $$\\hat{y} = mx + b$$\n",
    "## There for: $$MSE = \\frac{(y_{1} - (mx_{1} + b))^2 + (y_{2} - (mx_{2} + b))^2 ... (y_{n} - (mx_{n} + b))^2}{n}$$"
   ]
  },
  {
   "cell_type": "code",
   "execution_count": 2,
   "id": "03aaadf8",
   "metadata": {},
   "outputs": [],
   "source": [
    "def bMSE(actual, predicted):\n",
    "    return square(subtract(actual, predicted)).mean()"
   ]
  },
  {
   "cell_type": "markdown",
   "id": "103ce805",
   "metadata": {},
   "source": [
    "### Actual values"
   ]
  },
  {
   "cell_type": "code",
   "execution_count": 3,
   "id": "ce5d6d77",
   "metadata": {},
   "outputs": [],
   "source": [
    "actual = [5,4,3,5,1,4,5]"
   ]
  },
  {
   "cell_type": "markdown",
   "id": "0418c47e",
   "metadata": {},
   "source": [
    "### Predicted values"
   ]
  },
  {
   "cell_type": "code",
   "execution_count": 4,
   "id": "786525ee",
   "metadata": {},
   "outputs": [],
   "source": [
    "predicted = [4.4,5.2,2.5,4.5,2,4,4.5]"
   ]
  },
  {
   "cell_type": "code",
   "execution_count": 5,
   "id": "380246c7",
   "metadata": {},
   "outputs": [
    {
     "name": "stdout",
     "output_type": "stream",
     "text": [
      "0.5071428571428571\n"
     ]
    }
   ],
   "source": [
    "A = bMSE(actual, predicted)\n",
    "print(A)"
   ]
  },
  {
   "cell_type": "markdown",
   "id": "6f8c7c59",
   "metadata": {},
   "source": [
    "## Unbiased MSE: $MSE=\\frac{\\sum_{i=1}^{n} (\\hat{y_i}-y_i)^2 }{n-p-1}$"
   ]
  },
  {
   "cell_type": "code",
   "execution_count": 6,
   "id": "92446161",
   "metadata": {},
   "outputs": [],
   "source": [
    "def uMSE(actual, predicted):\n",
    "    return sum(square(subtract(actual,predicted)))/(7-1-1)"
   ]
  },
  {
   "cell_type": "code",
   "execution_count": 7,
   "id": "fdedda09",
   "metadata": {},
   "outputs": [
    {
     "name": "stdout",
     "output_type": "stream",
     "text": [
      "0.71\n"
     ]
    }
   ],
   "source": [
    "B = uMSE(actual, predicted)\n",
    "print(B)"
   ]
  },
  {
   "cell_type": "code",
   "execution_count": null,
   "id": "46ad917b",
   "metadata": {},
   "outputs": [],
   "source": []
  }
 ],
 "metadata": {
  "kernelspec": {
   "display_name": "Python 3 (ipykernel)",
   "language": "python",
   "name": "python3"
  },
  "language_info": {
   "codemirror_mode": {
    "name": "ipython",
    "version": 3
   },
   "file_extension": ".py",
   "mimetype": "text/x-python",
   "name": "python",
   "nbconvert_exporter": "python",
   "pygments_lexer": "ipython3",
   "version": "3.10.7"
  }
 },
 "nbformat": 4,
 "nbformat_minor": 5
}
